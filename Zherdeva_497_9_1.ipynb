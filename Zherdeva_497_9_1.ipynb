{
 "cells": [
  {
   "cell_type": "code",
   "execution_count": 1,
   "metadata": {
    "collapsed": true
   },
   "outputs": [],
   "source": [
    "import pandas as pd\n",
    "import numpy as np\n",
    "import random\n",
    "import math\n",
    "import matplotlib.pyplot as plt\n",
    "%matplotlib inline"
   ]
  },
  {
   "cell_type": "code",
   "execution_count": 42,
   "metadata": {
    "collapsed": false
   },
   "outputs": [],
   "source": [
    "data = pd.read_csv('forestfires.csv')"
   ]
  },
  {
   "cell_type": "code",
   "execution_count": 43,
   "metadata": {
    "collapsed": false
   },
   "outputs": [
    {
     "data": {
      "text/plain": [
       "12.847292069632491"
      ]
     },
     "execution_count": 43,
     "metadata": {},
     "output_type": "execute_result"
    }
   ],
   "source": [
    "data['area'].mean()"
   ]
  },
  {
   "cell_type": "markdown",
   "metadata": {},
   "source": [
    "### Сделаем преобразования над данными"
   ]
  },
  {
   "cell_type": "markdown",
   "metadata": {},
   "source": [
    "заменим координату month на индикатор летнего сезона\n",
    "\n",
    "удалим координату day "
   ]
  },
  {
   "cell_type": "code",
   "execution_count": 44,
   "metadata": {
    "collapsed": false
   },
   "outputs": [],
   "source": [
    "data['month'] = data.month.apply(lambda x: float(x == 'aug' or x == 'jul' \n",
    "                                                 or x == 'jun'))\n",
    "\n",
    "data.drop('day',axis=1,inplace=True)"
   ]
  },
  {
   "cell_type": "markdown",
   "metadata": {},
   "source": [
    "приведем все значения к float,чтобы не было проблем с матричными операциями"
   ]
  },
  {
   "cell_type": "code",
   "execution_count": 45,
   "metadata": {
    "collapsed": false
   },
   "outputs": [],
   "source": [
    "data['X'] = data.X.apply(lambda x: float(x))\n",
    "data['Y'] = data.Y.apply(lambda x: float(x))\n",
    "data['RH'] = data.RH.apply(lambda x: float(x))"
   ]
  },
  {
   "cell_type": "markdown",
   "metadata": {},
   "source": [
    "добавим координату, тождественно равную единице. Она будет отвечать свободному члену в линейной коомбинации"
   ]
  },
  {
   "cell_type": "code",
   "execution_count": 46,
   "metadata": {
    "collapsed": true
   },
   "outputs": [],
   "source": [
    "data['free_member'] = 1.0"
   ]
  },
  {
   "cell_type": "code",
   "execution_count": 47,
   "metadata": {
    "collapsed": false
   },
   "outputs": [],
   "source": [
    "area = data['area']\n",
    "data.drop('area', axis = 1, inplace = True)\n",
    "data['area'] = area\n",
    "new_data = data.as_matrix()\n",
    "random.shuffle(new_data) # перемешаем выборку"
   ]
  },
  {
   "cell_type": "markdown",
   "metadata": {},
   "source": [
    "### Строим регрессионную модель"
   ]
  },
  {
   "cell_type": "markdown",
   "metadata": {},
   "source": [
    "$ \\hat{\\theta} = (Z^TZ)^{-1}Z^TX$"
   ]
  },
  {
   "cell_type": "code",
   "execution_count": 48,
   "metadata": {
    "collapsed": false
   },
   "outputs": [],
   "source": [
    "area = (new_data.T[-1]).T # выбираем столбец area\n",
    "data = (new_data.T[:-1]).T # data- матрица без столбца area\n",
    "\n",
    "Z = np.matrix(data[:len(data)/10*7]) # разделяем выборку на две части\n",
    "Z_2 = np.matrix(data[len(Z):])\n",
    "X = np.matrix(area[:len(data)/10*7]).T\n",
    "X_2 = np.matrix(area[len(X):]).T\n",
    "\n",
    "estimation = ((Z.T * Z).I) * Z.T * X"
   ]
  },
  {
   "cell_type": "markdown",
   "metadata": {},
   "source": [
    "### Среднеквадратичная ошибка"
   ]
  },
  {
   "cell_type": "code",
   "execution_count": 49,
   "metadata": {
    "collapsed": false
   },
   "outputs": [
    {
     "name": "stdout",
     "output_type": "stream",
     "text": [
      "Среднеквадратичная ошибка 24.9229531914\n"
     ]
    }
   ],
   "source": [
    "error = np.std(Z_2 * estimation - X_2)\n",
    "print 'Среднеквадратичная ошибка', error"
   ]
  },
  {
   "cell_type": "markdown",
   "metadata": {},
   "source": [
    "Как видно среднеквадратичная ошибка 23.55 достаточно большая, учитывая, что в среднем area принимает значение 12.85"
   ]
  },
  {
   "cell_type": "markdown",
   "metadata": {},
   "source": [
    "### Сделаем для area преобразование f(x) = ln(c+x) и построим для нее регрессионную модель\n"
   ]
  },
  {
   "cell_type": "code",
   "execution_count": 50,
   "metadata": {
    "collapsed": true
   },
   "outputs": [],
   "source": [
    "def count_error(c):\n",
    "    area = (new_data.T[-1]).T # выбираем столбец area\n",
    "    data = (new_data.T[:-1]).T # data- матрица без столбца area\n",
    "    \n",
    "    Z = np.matrix(data[:len(data)/10*7])\n",
    "    Z_2 = np.matrix(data[len(Z):])\n",
    "    X_log = np.log(np.matrix(area[:len(data)/10*7]).T + c)\n",
    "    X_2 = np.log(np.matrix(area[len(Z):]).T + c)\n",
    "\n",
    "\n",
    "    estimation = (Z.T * Z).I * Z.T * X_log\n",
    "    predictions = Z_2 * estimation\n",
    "    \n",
    "    # cреднеквадратичная ошибка для преобразованных значений\n",
    "    error = np.std(predictions - X_2)\n",
    "  \n",
    "    inv_predictions = np.exp(predictions) - c \n",
    "    # среднеквадратичная ошибка для исходных значений\n",
    "    inv_error = np.std(inv_predictions - (np.exp(X_2) - c))\n",
    "    return (error,inv_error)"
   ]
  },
  {
   "cell_type": "markdown",
   "metadata": {},
   "source": [
    "#### Посмотрим как ведет себя ошибка при увеличении с"
   ]
  },
  {
   "cell_type": "code",
   "execution_count": 51,
   "metadata": {
    "collapsed": false
   },
   "outputs": [
    {
     "data": {
      "image/png": "[encoded data removed]",
      "text/plain": [
       "<matplotlib.figure.Figure at 0xc3bad30>"
      ]
     },
     "metadata": {},
     "output_type": "display_data"
    },
    {
     "data": {
      "image/png": "[encoded data removed]",
      "text/plain": [
       "<matplotlib.figure.Figure at 0xeca2da0>"
      ]
     },
     "metadata": {},
     "output_type": "display_data"
    }
   ],
   "source": [
    "grid = np.arange(5000, 100000, 100)\n",
    "error = [count_error(x)[0] for x in grid]\n",
    "plt.plot(grid, error)\n",
    "plt.xlabel('c')\n",
    "plt.ylabel('error')\n",
    "plt.title('for ln(x+c)')\n",
    "plt.grid(True)\n",
    "plt.show()\n",
    "\n",
    "grid = np.arange(1, 400, 10)\n",
    "error = [count_error(x)[1] for x in grid]\n",
    "plt.plot(grid, error, color = 'green')\n",
    "plt.xlabel('c')\n",
    "plt.ylabel('error')\n",
    "plt.title('for x')\n",
    "plt.grid(True)\n",
    "plt.show()"
   ]
  },
  {
   "cell_type": "markdown",
   "metadata": {
    "collapsed": true
   },
   "source": [
    "Из графиков можно увидеть, что при увеличении $c$ среднеквадратичная ошибка $ln(x+c)$ уменьшается\n",
    "\n",
    "Однако ошибка по исходной выборке начиная $c \\approx 70 $  начинает увеличиваться \n"
   ]
  },
  {
   "cell_type": "code",
   "execution_count": 52,
   "metadata": {
    "collapsed": false,
    "scrolled": true
   },
   "outputs": [
    {
     "name": "stdout",
     "output_type": "stream",
     "text": [
      "0\n",
      "1\n",
      "2\n",
      "3\n",
      "4\n",
      "max_error = 87.6795892804\n",
      "mid_error = 1.05577139051\n",
      "min_error = 3.04883335464e-11\n"
     ]
    }
   ],
   "source": [
    "max_error = 0\n",
    "mid_error = 0\n",
    "min_error = np.inf\n",
    "c = 70 # берем самое оптимальное, исходя из графиков\n",
    "for i in range(5):\n",
    "    random.shuffle(new_data)# перемешаем выборку        \n",
    "    res = count_error(5)[1]\n",
    "    \n",
    "    max_error = max(max_error,res)\n",
    "    min_error = min(min_error,res)\n",
    "    mid_error += res\n",
    "    \n",
    "mid_error /= 100\n",
    "\n",
    "print('max_error = '+ str(max_error) + '\\nmid_error = ' +  str(mid_error) +\n",
    "      '\\nmin_error = ' + str(min_error))"
   ]
  },
  {
   "cell_type": "markdown",
   "metadata": {},
   "source": [
    "Из полученных данных видно,что модель не очень хорошая, потому что ошибка зависит от способа разбиения"
   ]
  }
 ],
 "metadata": {
  "kernelspec": {
   "display_name": "Python 2",
   "language": "python",
   "name": "python2"
  },
  "language_info": {
   "codemirror_mode": {
    "name": "ipython",
    "version": 2
   },
   "file_extension": ".py",
   "mimetype": "text/x-python",
   "name": "python",
   "nbconvert_exporter": "python",
   "pygments_lexer": "ipython2",
   "version": "2.7.10"
  }
 },
 "nbformat": 4,
 "nbformat_minor": 0
}

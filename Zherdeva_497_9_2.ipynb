{
 "cells": [
  {
   "cell_type": "code",
   "execution_count": 1,
   "metadata": {
    "collapsed": true
   },
   "outputs": [],
   "source": [
    "import numpy as np\n",
    "import math\n",
    "import scipy.stats as sps\n",
    "import matplotlib.pyplot as plt\n",
    "%matplotlib inline"
   ]
  },
  {
   "cell_type": "code",
   "execution_count": 17,
   "metadata": {
    "collapsed": false
   },
   "outputs": [],
   "source": [
    "data_input = open(\"data9.2.txt\")\n",
    "# считаем построчно,без знака переноса в конце строки\n",
    "X= np.array(list(map(float, data_input.readlines()))) \n",
    "data_input.close()"
   ]
  },
  {
   "cell_type": "code",
   "execution_count": 46,
   "metadata": {
    "collapsed": true
   },
   "outputs": [],
   "source": [
    "n = len(X)"
   ]
  },
  {
   "cell_type": "markdown",
   "metadata": {},
   "source": [
    "### Сводим задачу к линейной модели\n",
    "$Y_{0} = X_{0} = \\beta_{1} + \\varepsilon_{i}$\n",
    "\n",
    "$Y_{i} = X_{i} - X_{i-1} = \\beta_{2} + \\varepsilon_{i}$\n",
    "\n",
    "=>\n",
    "$Y = l + \\varepsilon \\backsim N(0,\\sigma^2)$ \n",
    "\n",
    "Получаем $Z = \\begin{pmatrix}\n",
    "1 & 0\\\\\n",
    "0 & 1 \\\\         \n",
    "\\vdots & \\vdots\\\\\n",
    "0 & 1\n",
    "\\end{pmatrix}$\n",
    "\n",
    "\n",
    "$\\hat{\\theta} =(Z^{T}Z)^{-1}Z^{T}Y= \\begin{pmatrix}\n",
    "Y_{0}\\\\\n",
    "\\frac{\\sum_{i=1}^n Y_{i}}{n} \n",
    "\\end{pmatrix}$ - оценка для $\\theta = \\begin{pmatrix}\n",
    "\\beta_{1}\\\\\n",
    "\\beta_{2}\n",
    "\\end{pmatrix}$ \n"
   ]
  },
  {
   "cell_type": "code",
   "execution_count": 47,
   "metadata": {
    "collapsed": false
   },
   "outputs": [],
   "source": [
    "Y = [X[k] - X[k-1] for k in range(n)]\n",
    "Y[0] = X[0]\n",
    "Y = np.matrix(Y)\n",
    "\n",
    "Z = [[0,1] for i in range(n)]\n",
    "Z[0] = [1,0]\n",
    "Z = np.matrix(Z)"
   ]
  },
  {
   "cell_type": "markdown",
   "metadata": {},
   "source": [
    "### Находим оценки $\\beta_{1}$ и $\\beta_{2}$"
   ]
  },
  {
   "cell_type": "code",
   "execution_count": 48,
   "metadata": {
    "collapsed": true
   },
   "outputs": [],
   "source": [
    "def estimation(Z,X):\n",
    "    return (Z.T * Z).I * Z.T * X.T"
   ]
  },
  {
   "cell_type": "code",
   "execution_count": 49,
   "metadata": {
    "collapsed": false
   },
   "outputs": [
    {
     "name": "stdout",
     "output_type": "stream",
     "text": [
      "[[ 380.69511   ]\n",
      " [  11.05387643]]\n"
     ]
    }
   ],
   "source": [
    "theta = estimation(Z,Y)\n",
    "print theta"
   ]
  },
  {
   "cell_type": "markdown",
   "metadata": {},
   "source": [
    "### Несмещенная оценка для $\\sigma^2$"
   ]
  },
  {
   "cell_type": "markdown",
   "metadata": {},
   "source": [
    "$\\hat{\\sigma^2} = \\frac{1}{n-1}|Y-Z\\hat{\\theta}|^2$"
   ]
  },
  {
   "cell_type": "code",
   "execution_count": 52,
   "metadata": {
    "collapsed": false
   },
   "outputs": [
    {
     "name": "stdout",
     "output_type": "stream",
     "text": [
      "[[ 0.09158536]]\n"
     ]
    }
   ],
   "source": [
    "sigma = ((Y.T - Z*theta).T * (Y.T - Z*theta))/(n-1)\n",
    "print sigma"
   ]
  },
  {
   "cell_type": "markdown",
   "metadata": {},
   "source": [
    "### Оценка дисперсии отсчета времени"
   ]
  },
  {
   "cell_type": "markdown",
   "metadata": {},
   "source": [
    "Так как $ \\varepsilon_{i} = \\varepsilon_{i}^t \\beta_2$ и $\\varepsilon_{i} \\backsim N(0,\\sigma^2)$ =>\n",
    "\n",
    "$\\hat{\\sigma_{t}^2} = \\frac{\\hat{\\sigma^2}}{\\beta_2^2}$\n",
    "\n",
    "\n"
   ]
  },
  {
   "cell_type": "code",
   "execution_count": 54,
   "metadata": {
    "collapsed": false
   },
   "outputs": [
    {
     "name": "stdout",
     "output_type": "stream",
     "text": [
      "[[ 0.00074954]]\n"
     ]
    }
   ],
   "source": [
    "sigma_t = sigma/(np.array(theta)[1]**2)\n",
    "print(sigma_t)"
   ]
  },
  {
   "cell_type": "markdown",
   "metadata": {},
   "source": [
    "Можно сделать вывод, что линейная модель применима в данном случае для получения достаточно точных оценок, так как $\\hat{\\sigma^2_{t}} << 1$ и $\\hat{\\sigma^2} << Y_{i}$"
   ]
  },
  {
   "cell_type": "code",
   "execution_count": null,
   "metadata": {
    "collapsed": true
   },
   "outputs": [],
   "source": []
  }
 ],
 "metadata": {
  "kernelspec": {
   "display_name": "Python 2",
   "language": "python",
   "name": "python2"
  },
  "language_info": {
   "codemirror_mode": {
    "name": "ipython",
    "version": 2
   },
   "file_extension": ".py",
   "mimetype": "text/x-python",
   "name": "python",
   "nbconvert_exporter": "python",
   "pygments_lexer": "ipython2",
   "version": "2.7.10"
  }
 },
 "nbformat": 4,
 "nbformat_minor": 0
}

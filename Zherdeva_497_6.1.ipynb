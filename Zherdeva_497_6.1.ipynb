{
 "cells": [
  {
   "cell_type": "code",
   "execution_count": 99,
   "metadata": {
    "collapsed": false
   },
   "outputs": [],
   "source": [
    "import pandas as pd\n",
    "import numpy as np\n",
    "import time"
   ]
  },
  {
   "cell_type": "markdown",
   "metadata": {},
   "source": [
    "## Вывод формулы для $E(N_t|N_s)$"
   ]
  },
  {
   "cell_type": "markdown",
   "metadata": {},
   "source": [
    "так как $N_t - N_s {\\sim} Pois({\\lambda}(t-s))$ : $E(N_t-N_s)={\\lambda}(t-s)$\n",
    "\n",
    "по линейности матожидания: $E(N_t-N_s) = E(N_t-N_s|N_s)+E(N_s|N_s) = E(N_t-N_s) +N_s$(так как $N_t-N_s{\\perp\\!\\!\\perp}N_s$)\n",
    "\n",
    "Значит: $E(N_t|N_s)={\\lambda}(t-s) +N_s$\n"
   ]
  },
  {
   "cell_type": "markdown",
   "metadata": {},
   "source": [
    "## Считаем данные"
   ]
  },
  {
   "cell_type": "code",
   "execution_count": 100,
   "metadata": {
    "collapsed": false
   },
   "outputs": [],
   "source": [
    "data_input = open(\"data6.1.txt\", 'r')\n",
    "# считаем построчно,без знака переноса в конце строки\n",
    "data = np.array(list(map(float, data_input.readlines()))) \n",
    "data_input.close()"
   ]
  },
  {
   "cell_type": "code",
   "execution_count": 101,
   "metadata": {
    "collapsed": false
   },
   "outputs": [],
   "source": [
    "lambd = data[0]\n",
    "servers = data[1:]\n",
    "t = 60\n",
    "t_0 = 1\n"
   ]
  },
  {
   "cell_type": "code",
   "execution_count": 102,
   "metadata": {
    "collapsed": false
   },
   "outputs": [
    {
     "data": {
      "text/plain": [
       "array([  2.596,   3.306,   4.084,  10.784,  21.283,  27.474,  29.39 ,\n",
       "        30.98 ,  32.558,  36.962,  39.733,  41.762,  42.897,  47.298,\n",
       "        47.637,  49.633,  52.364,  54.104,  57.952])"
      ]
     },
     "execution_count": 102,
     "metadata": {},
     "output_type": "execute_result"
    }
   ],
   "source": [
    "servers"
   ]
  },
  {
   "cell_type": "markdown",
   "metadata": {},
   "source": [
    "## Выводим предсказания"
   ]
  },
  {
   "cell_type": "code",
   "execution_count": 96,
   "metadata": {
    "collapsed": false
   },
   "outputs": [
    {
     "name": "stdout",
     "output_type": "stream",
     "text": [
      "time: 0 servers: 21\n",
      "time: 1 servers: 21\n",
      "time: 2 servers: 20\n",
      "time: 3 servers: 21\n",
      "time: 4 servers: 22\n",
      "time: 5 servers: 22\n",
      "time: 6 servers: 22\n",
      "time: 7 servers: 21\n",
      "time: 8 servers: 21\n",
      "time: 9 servers: 21\n",
      "time: 10 servers: 20\n",
      "time: 11 servers: 21\n",
      "time: 12 servers: 21\n",
      "time: 13 servers: 20\n",
      "time: 14 servers: 20\n",
      "time: 15 servers: 20\n",
      "time: 16 servers: 19\n",
      "time: 17 servers: 19\n",
      "time: 18 servers: 19\n",
      "time: 19 servers: 18\n",
      "time: 20 servers: 18\n",
      "time: 21 servers: 17\n",
      "time: 22 servers: 18\n",
      "time: 23 servers: 18\n",
      "time: 24 servers: 17\n",
      "time: 25 servers: 17\n",
      "time: 26 servers: 17\n",
      "time: 27 servers: 16\n",
      "time: 28 servers: 17\n",
      "time: 29 servers: 17\n",
      "time: 30 servers: 17\n",
      "time: 31 servers: 18\n",
      "time: 32 servers: 18\n",
      "time: 33 servers: 18\n",
      "time: 34 servers: 18\n",
      "time: 35 servers: 17\n",
      "time: 36 servers: 17\n",
      "time: 37 servers: 18\n",
      "time: 38 servers: 17\n",
      "time: 39 servers: 17\n",
      "time: 40 servers: 18\n",
      "time: 41 servers: 17\n",
      "time: 42 servers: 18\n",
      "time: 43 servers: 19\n",
      "time: 44 servers: 18\n",
      "time: 45 servers: 18\n",
      "time: 46 servers: 18\n",
      "time: 47 servers: 17\n",
      "time: 48 servers: 19\n",
      "time: 49 servers: 18\n",
      "time: 50 servers: 19\n",
      "time: 51 servers: 19\n",
      "time: 52 servers: 18\n",
      "time: 53 servers: 19\n",
      "time: 54 servers: 19\n",
      "time: 55 servers: 19\n",
      "time: 56 servers: 19\n",
      "time: 57 servers: 19\n",
      "time: 58 servers: 19\n",
      "time: 59 servers: 19\n",
      "time: 60 servers: 19\n"
     ]
    }
   ],
   "source": [
    "s = np.arange(0, t+t_0,t_0)\n",
    "# количество серверов, которые вышли из строя ко времени s\n",
    "N_s = np.array([(servers <= cur_t).sum() for cur_t in s]) \n",
    "for si in s:\n",
    "    print('time: ' '%d'' servers: ''%d' % (si, lambd * (t - si) + N_s[si]))\n",
    "    time.sleep(1)\n",
    "    "
   ]
  },
  {
   "cell_type": "code",
   "execution_count": null,
   "metadata": {
    "collapsed": true
   },
   "outputs": [],
   "source": []
  }
 ],
 "metadata": {
  "kernelspec": {
   "display_name": "Python 2",
   "language": "python",
   "name": "python2"
  },
  "language_info": {
   "codemirror_mode": {
    "name": "ipython",
    "version": 2
   },
   "file_extension": ".py",
   "mimetype": "text/x-python",
   "name": "python",
   "nbconvert_exporter": "python",
   "pygments_lexer": "ipython2",
   "version": "2.7.11"
  }
 },
 "nbformat": 4,
 "nbformat_minor": 0
}

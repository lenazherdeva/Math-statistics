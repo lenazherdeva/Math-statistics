{
 "cells": [
  {
   "cell_type": "code",
   "execution_count": 1,
   "metadata": {
    "collapsed": true
   },
   "outputs": [],
   "source": [
    "import pandas as pd\n",
    "import numpy as np\n",
    "import scipy.stats as sps\n",
    "import matplotlib.pyplot as plt\n",
    "%matplotlib inline"
   ]
  },
  {
   "cell_type": "markdown",
   "metadata": {},
   "source": [
    "## Считаем данные из файла"
   ]
  },
  {
   "cell_type": "code",
   "execution_count": 4,
   "metadata": {
    "collapsed": false
   },
   "outputs": [],
   "source": [
    "data_input = open(\"data6.1.txt\", 'r')\n",
    "# считаем построчно,без знака переноса в конце строки\n",
    "data = np.array(list(map(float, data_input.readlines()))) \n",
    "data_input.close()"
   ]
  },
  {
   "cell_type": "code",
   "execution_count": 5,
   "metadata": {
    "collapsed": true
   },
   "outputs": [],
   "source": [
    "lambd = data[0]\n",
    "servers = data[1:]\n",
    "t = 60\n",
    "t_0 = 1\n"
   ]
  },
  {
   "cell_type": "markdown",
   "metadata": {},
   "source": [
    "### Найдём $N_s$  - количество серверов, вышедших из строя к моменту времени $s$. "
   ]
  },
  {
   "cell_type": "code",
   "execution_count": 7,
   "metadata": {
    "collapsed": false
   },
   "outputs": [],
   "source": [
    "s = np.arange(0, t+t_0,t_0)\n",
    "N_s = np.array([(servers <= cur_t).sum() for cur_t in s]) "
   ]
  },
  {
   "cell_type": "markdown",
   "metadata": {},
   "source": [
    "## Оценка параметра $\\lambda$"
   ]
  },
  {
   "cell_type": "markdown",
   "metadata": {},
   "source": [
    "#### В качестве априорного распределения $\\lambda$ возьмём сопряжённое к экпоненциальному рапределению. \n",
    "#### Это гамма-распределение $ \\mathcal{\\Gamma}(\\alpha, \\beta) $.\n",
    "\n",
    "Тогда апостериорное распределение есть $\\; \\mathcal{Г} \\left(\\alpha + n, \\;\\beta \\; + \\; \\sum_{i=1}^n X_i \\right) $.\n",
    "\n",
    "Байесовской оценкой параметра $\\lambda$ будет $E(\\lambda\\;|\\;X)$.\n",
    "\n",
    "Получаем байесовскую оценку для $\\lambda \\; : \\; \\hat{\\lambda}\\;(X) = E\\;(\\lambda\\;|\\;X) = \\frac{\\alpha\\; + \\; n}{\\beta\\; +\\; \\sum_{i=1}^n X_i}$"
   ]
  },
  {
   "cell_type": "markdown",
   "metadata": {},
   "source": [
    "### Функция подсчёта байесовской оценки параметра $\\hat{\\lambda}$"
   ]
  },
  {
   "cell_type": "code",
   "execution_count": 9,
   "metadata": {
    "collapsed": true
   },
   "outputs": [],
   "source": [
    "def bayes(data, alpha, beta):\n",
    "    bayes = []\n",
    "    N = np.arange(1, len(data) + 1)\n",
    "    bayes = (alpha + N) / (beta + np.array(data))\n",
    "    return bayes"
   ]
  },
  {
   "cell_type": "code",
   "execution_count": 11,
   "metadata": {
    "collapsed": false
   },
   "outputs": [],
   "source": [
    "bayes_est = bayes(servers,1,1) # возьмем параметры 1,1"
   ]
  },
  {
   "cell_type": "code",
   "execution_count": 19,
   "metadata": {
    "collapsed": true
   },
   "outputs": [],
   "source": [
    "def predictions(t):\n",
    "    condition = (N_s <= t)\n",
    "    counts = np.extract(condition, N_s).size\n",
    "    lambd = bayes_est[counts]\n",
    "    return  counts + lambd * (60 - t) "
   ]
  },
  {
   "cell_type": "code",
   "execution_count": null,
   "metadata": {
    "collapsed": true
   },
   "outputs": [],
   "source": []
  }
 ],
 "metadata": {
  "kernelspec": {
   "display_name": "Python 2",
   "language": "python",
   "name": "python2"
  },
  "language_info": {
   "codemirror_mode": {
    "name": "ipython",
    "version": 2
   },
   "file_extension": ".py",
   "mimetype": "text/x-python",
   "name": "python",
   "nbconvert_exporter": "python",
   "pygments_lexer": "ipython2",
   "version": "2.7.11"
  }
 },
 "nbformat": 4,
 "nbformat_minor": 0
}
